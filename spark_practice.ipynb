{
 "cells": [
  {
   "cell_type": "code",
   "execution_count": 2,
   "metadata": {},
   "outputs": [],
   "source": [
    "import pyspark\n"
   ]
  },
  {
   "cell_type": "code",
   "execution_count": 4,
   "metadata": {},
   "outputs": [],
   "source": [
    "from pyspark.sql import SparkSession"
   ]
  },
  {
   "cell_type": "code",
   "execution_count": 6,
   "metadata": {},
   "outputs": [
    {
     "name": "stderr",
     "output_type": "stream",
     "text": [
      "Setting default log level to \"WARN\".\n",
      "To adjust logging level use sc.setLogLevel(newLevel). For SparkR, use setLogLevel(newLevel).\n",
      "24/05/23 01:25:46 WARN NativeCodeLoader: Unable to load native-hadoop library for your platform... using builtin-java classes where applicable\n",
      "24/05/23 01:25:47 WARN Utils: Service 'SparkUI' could not bind on port 4040. Attempting port 4041.\n"
     ]
    }
   ],
   "source": [
    "spark=SparkSession.builder.appName(\"cardata\").getOrCreate()"
   ]
  },
  {
   "cell_type": "code",
   "execution_count": 7,
   "metadata": {},
   "outputs": [
    {
     "data": {
      "text/html": [
       "\n",
       "            <div>\n",
       "                <p><b>SparkSession - in-memory</b></p>\n",
       "                \n",
       "        <div>\n",
       "            <p><b>SparkContext</b></p>\n",
       "\n",
       "            <p><a href=\"http://75a2936b5ffc:4041\">Spark UI</a></p>\n",
       "\n",
       "            <dl>\n",
       "              <dt>Version</dt>\n",
       "                <dd><code>v3.2.1</code></dd>\n",
       "              <dt>Master</dt>\n",
       "                <dd><code>local[*]</code></dd>\n",
       "              <dt>AppName</dt>\n",
       "                <dd><code>cardata</code></dd>\n",
       "            </dl>\n",
       "        </div>\n",
       "        \n",
       "            </div>\n",
       "        "
      ],
      "text/plain": [
       "<pyspark.sql.session.SparkSession at 0x7fd336dbeca0>"
      ]
     },
     "execution_count": 7,
     "metadata": {},
     "output_type": "execute_result"
    }
   ],
   "source": [
    "spark"
   ]
  },
  {
   "cell_type": "code",
   "execution_count": 8,
   "metadata": {},
   "outputs": [
    {
     "name": "stderr",
     "output_type": "stream",
     "text": [
      "                                                                                \r"
     ]
    }
   ],
   "source": [
    "df_pyspark=spark.read.csv(\"cars_data_clean.csv\",header=True,inferSchema=True)"
   ]
  },
  {
   "cell_type": "code",
   "execution_count": 9,
   "metadata": {},
   "outputs": [
    {
     "name": "stdout",
     "output_type": "stream",
     "text": [
      "root\n",
      " |-- usedCarSkuId: string (nullable = true)\n",
      " |-- loc: string (nullable = true)\n",
      " |-- myear: integer (nullable = true)\n",
      " |-- body: string (nullable = true)\n",
      " |-- transmission: string (nullable = true)\n",
      " |-- fuel: string (nullable = true)\n",
      " |-- km: double (nullable = true)\n",
      " |-- ip: integer (nullable = true)\n",
      " |-- images: string (nullable = true)\n",
      " |-- imgCount: integer (nullable = true)\n",
      " |-- threesixty: boolean (nullable = true)\n",
      " |-- dvn: string (nullable = true)\n",
      " |-- oem: string (nullable = true)\n",
      " |-- model: string (nullable = true)\n",
      " |-- variant: string (nullable = true)\n",
      " |-- City: string (nullable = true)\n",
      " |-- listed_price: double (nullable = true)\n",
      " |-- discountValue: integer (nullable = true)\n",
      " |-- utype: string (nullable = true)\n",
      " |-- carType: string (nullable = true)\n",
      " |-- top_features: string (nullable = true)\n",
      " |-- comfort_features: string (nullable = true)\n",
      " |-- interior_features: string (nullable = true)\n",
      " |-- exterior_features: string (nullable = true)\n",
      " |-- safety_features: string (nullable = true)\n",
      " |-- Color: string (nullable = true)\n",
      " |-- Engine Type: string (nullable = true)\n",
      " |-- No of Cylinder: double (nullable = true)\n",
      " |-- Valves per Cylinder: double (nullable = true)\n",
      " |-- Valve Configuration: string (nullable = true)\n",
      " |-- Turbo Charger: boolean (nullable = true)\n",
      " |-- Super Charger: boolean (nullable = true)\n",
      " |-- Length: double (nullable = true)\n",
      " |-- Width: double (nullable = true)\n",
      " |-- Height: double (nullable = true)\n",
      " |-- Wheel Base: double (nullable = true)\n",
      " |-- Front Tread: double (nullable = true)\n",
      " |-- Rear Tread: double (nullable = true)\n",
      " |-- Kerb Weight: double (nullable = true)\n",
      " |-- Gross Weight: double (nullable = true)\n",
      " |-- Gear Box: string (nullable = true)\n",
      " |-- Drive Type: string (nullable = true)\n",
      " |-- Seats: double (nullable = true)\n",
      " |-- Steering Type: string (nullable = true)\n",
      " |-- Turning Radius: double (nullable = true)\n",
      " |-- Front Brake Type: string (nullable = true)\n",
      " |-- Rear Brake Type: string (nullable = true)\n",
      " |-- Top Speed: double (nullable = true)\n",
      " |-- Acceleration: double (nullable = true)\n",
      " |-- Tyre Type: string (nullable = true)\n",
      " |-- Doors: double (nullable = true)\n",
      " |-- Cargo Volume: double (nullable = true)\n",
      " |-- model_type_new: string (nullable = true)\n",
      " |-- state: string (nullable = true)\n",
      " |-- exterior_color: string (nullable = true)\n",
      " |-- owner_type: string (nullable = true)\n",
      " |-- Fuel Suppy System: string (nullable = true)\n",
      " |-- Compression Ratio: double (nullable = true)\n",
      " |-- Alloy Wheel Size: double (nullable = true)\n",
      " |-- Ground Clearance Unladen: double (nullable = true)\n",
      " |-- Max Power Delivered: double (nullable = true)\n",
      " |-- Max Power At: double (nullable = true)\n",
      " |-- Max Torque Delivered: double (nullable = true)\n",
      " |-- Max Torque At: double (nullable = true)\n",
      " |-- Bore: double (nullable = true)\n",
      " |-- Stroke: double (nullable = true)\n",
      "\n"
     ]
    }
   ],
   "source": [
    "df_pyspark.printSchema()"
   ]
  },
  {
   "cell_type": "code",
   "execution_count": 10,
   "metadata": {},
   "outputs": [
    {
     "name": "stderr",
     "output_type": "stream",
     "text": [
      "24/05/23 01:36:45 WARN package: Truncated the string representation of a plan since it was too large. This behavior can be adjusted by setting 'spark.sql.debug.maxToStringFields'.\n"
     ]
    },
    {
     "name": "stdout",
     "output_type": "stream",
     "text": [
      "+--------------------+----------------+-----+---------+------------+----+--------+---+--------------------+--------+----------+--------------------+-------+------------------+--------------------+---------+------------+-------------+----------+---------+--------------------+--------------------+--------------------+--------------------+--------------------+----------------+--------------------+--------------+-------------------+-------------------+-------------+-------------+------+------+------+----------+-----------+----------+-----------+------------+--------+----------+-----+-------------+--------------+----------------+---------------+---------+------------+---------------+-----+------------+--------------+-------------+----------------+----------+--------------------+-----------------+----------------+------------------------+-------------------+------------+--------------------+-------------+----+------+\n",
      "|        usedCarSkuId|             loc|myear|     body|transmission|fuel|      km| ip|              images|imgCount|threesixty|                 dvn|    oem|             model|             variant|     City|listed_price|discountValue|     utype|  carType|        top_features|    comfort_features|   interior_features|   exterior_features|     safety_features|           Color|         Engine Type|No of Cylinder|Valves per Cylinder|Valve Configuration|Turbo Charger|Super Charger|Length| Width|Height|Wheel Base|Front Tread|Rear Tread|Kerb Weight|Gross Weight|Gear Box|Drive Type|Seats|Steering Type|Turning Radius|Front Brake Type|Rear Brake Type|Top Speed|Acceleration|      Tyre Type|Doors|Cargo Volume|model_type_new|        state|  exterior_color|owner_type|   Fuel Suppy System|Compression Ratio|Alloy Wheel Size|Ground Clearance Unladen|Max Power Delivered|Max Power At|Max Torque Delivered|Max Torque At|Bore|Stroke|\n",
      "+--------------------+----------------+-----+---------+------------+----+--------+---+--------------------+--------+----------+--------------------+-------+------------------+--------------------+---------+------------+-------------+----------+---------+--------------------+--------------------+--------------------+--------------------+--------------------+----------------+--------------------+--------------+-------------------+-------------------+-------------+-------------+------+------+------+----------+-----------+----------+-----------+------------+--------+----------+-----+-------------+--------------+----------------+---------------+---------+------------+---------------+-----+------------+--------------+-------------+----------------+----------+--------------------+-----------------+----------------+------------------------+-------------------+------------+--------------------+-------------+----+------+\n",
      "|7111bf25-97af-47f...|     gomti nagar| 2016|hatchback|      manual| cng| 69162.0|  0|[{'img': 'https:/...|      15|     false|maruti wagon r lx...| maruti|    maruti wagon r|             lxi cng|  lucknow|    370000.0|            0|    dealer|corporate|['power steering'...|['power steering'...|['air conditioner...|['adjustable head...|['centeral lockin...|          silver|         k10b engine|           3.0|                4.0|               dohc|        false|        false|3599.0|1495.0|1700.0|    2400.0|     1295.0|    1290.0|      960.0|      1350.0| 5 speed|       fwd|  5.0|        power|           4.6| ventilated disc|           drum|    137.0|        15.9|       tubeless|  5.0|       180.0|          used|uttar pradesh|          silver|     first|                 nan|             null|            null|                    null|              58.16|      6200.0|                77.0|       3500.0|69.0|  null|\n",
      "|c309efc1-efaf-4f8...|   borivali west| 2015|hatchback|      manual| cng| 45864.0|  0|[{'img': 'https:/...|      15|     false|maruti celerio gr...| maruti|    maruti celerio|           green vxi|   mumbai|    365000.0|            0|    dealer|corporate|['power steering'...|['power steering'...|['air conditioner...|['adjustable head...|['centeral lockin...|            grey|         k10b engine|           3.0|                4.0|               dohc|        false|        false|3600.0|1600.0|1560.0|    2425.0|     1420.0|    1410.0|      915.0|      1350.0| 5 speed|       fwd|  5.0|        power|           4.7| ventilated disc|           drum|    150.0|       15.05|tubeless radial|  5.0|       235.0|          used|  maharashtra|            grey|     first|Gasoline Port Inj...|             11.0|            null|                    null|               58.2|      6000.0|                78.0|       3500.0|73.0|  null|\n",
      "|7609f710-0c97-4f0...|          jasola| 2015|    sedan|      manual| cng| 81506.0|  0|[{'img': 'https:/...|      15|     false|honda amaze s plu...|  honda|       honda amaze|       s plus i-vtec|new delhi|    421000.0|            0|    dealer|corporate|['power steering'...|['power steering'...|['air conditioner...|['adjustable head...|['centeral lockin...|          silver|i-vtec petrol engine|           4.0|                4.0|               sohc|        false|        false|3990.0|1680.0|1505.0|    2405.0|       null|      null|      950.0|        null| 5 speed|       fwd|  5.0|        power|           4.5|            disc|           drum|    160.0|        15.0|tubeless radial|  4.0|       400.0|          used|        delhi|          silver|    second|                 nan|             null|            null|                    null|               86.7|      6000.0|               109.0|       4500.0|null|  null|\n",
      "|278b76e3-5539-4a5...|          jasola| 2013|hatchback|      manual| cng|115893.0|  0|       [{'img': ''}]|       0|     false|maruti wagon r lx...| maruti|    maruti wagon r|             lxi cng|new delhi|    240000.0|            0|    dealer|corporate|['power steering'...|['power steering'...|['air conditioner...|['adjustable head...|['centeral lockin...|          silver|k series petrol e...|           3.0|                4.0|                nan|        false|        false|3595.0|1475.0|1700.0|    2400.0|     1295.0|    1290.0|      960.0|      1350.0| 5 speed|       fwd|  5.0|        power|           4.6| ventilated disc|           drum|     null|        null|tubeless radial|  4.0|        null|          used|        delhi|          silver|    second|Multi-Point Fuel ...|             null|            13.0|                    null|               58.2|      6200.0|                77.0|       3500.0|null|  null|\n",
      "|b1eab99b-a606-48d...|   mumbai g.p.o.| 2022|      muv|      manual| cng| 18900.0|  0|[{'img': 'https:/...|       6|     false|maruti ertiga vxi...| maruti|     maruti ertiga|             vxi cng|   mumbai|   1175000.0|            0|    dealer|  partner|['power steering'...|['power steering'...|['air conditioner...|['adjustable head...|['anti lock braki...|           white|                k15c|           4.0|                4.0|                nan|         true|         true|4395.0|1735.0|1690.0|    2740.0|       null|      null|     1250.0|      1820.0| 5 speed|       2wd|  7.0|          nan|           5.2|            disc|           drum|     null|        null|tubeless radial|  5.0|        null|          used|  maharashtra|           white|     first|                 nan|             12.0|            null|                    null|              86.63|      5500.0|               121.5|       4200.0|null|  null|\n",
      "|e030b70c-56b9-44b...|  bengali market| 2012|hatchback|      manual| cng| 60000.0|  0|[{'img': 'https:/...|      17|     false|maruti wagon r lx...| maruti|    maruti wagon r|             lxi cng|new delhi|    250000.0|            0|    dealer|  partner|['power steering'...|['power steering'...|['air conditioner...|['adjustable head...|['centeral lockin...|           white|         k10b engine|           3.0|                4.0|               dohc|        false|        false|3599.0|1495.0|1700.0|    2400.0|     1295.0|    1290.0|      960.0|      1350.0| 5 speed|       fwd|  5.0|        power|           4.6| ventilated disc|           drum|    137.0|        15.9|       tubeless|  5.0|       180.0|          used|        delhi|           white|     first|                 nan|             null|            null|                    null|              58.16|      6200.0|                77.0|       3500.0|69.0|  null|\n",
      "|6ca9c00f-b755-44e...|  bengali market| 2010|hatchback|      manual| cng| 67000.0|  0|[{'img': 'https:/...|      12|     false|maruti alto green...| maruti|       maruti alto|     green lxi (cng)|new delhi|    145000.0|            0|    dealer|  partner|['power steering'...|['power steering'...|['air conditioner...|['adjustable head...|['power door lock...|            blue|      in line engine|           3.0|                4.0|               sohc|        false|        false|3495.0|1475.0|1460.0|    2360.0|     1295.0|    1290.0|      705.0|      1140.0| 5 speed|       2wd|  5.0|        power|           4.6|            disc|           drum|    137.0|        18.2|tubeless radial|  5.0|        null|          used|        delhi|            blue|     first|                 nan|             null|            12.0|                    null|               38.4|      6200.0|                62.0|       3000.0|68.5|  null|\n",
      "|27f36089-ecf1-415...|     preet vihar| 2017|hatchback|      manual| cng| 58000.0|  0|[{'img': 'https:/...|       1|     false|hyundai grand i10...|hyundai| hyundai grand i10|1.2 kappa magna c...|new delhi|    465000.0|            0|    dealer|  partner|['power steering'...|['power steering'...|['air conditioner...|['adjustable head...|['anti lock braki...|            grey|kappa vtvt petrol...|           4.0|                4.0|               dohc|        false|        false|3765.0|1660.0|1520.0|    2425.0|     1479.0|    1493.0|       null|        null| 5 speed|       fwd|  5.0|        power|           4.8|            disc|           drum|    165.0|        12.9|       tubeless|  5.0|       256.0|          used|        delhi|            grey|     first|Multi-Point Fuel ...|             null|            null|                    null|              65.39|      6000.0|                98.0|       4000.0|null|  null|\n",
      "|4ebf53b7-8910-43c...|       dundahera| 2021|hatchback|      manual| cng| 54097.0|  0|[{'img': 'https:/...|      17|     false|maruti wagon r cn...| maruti|    maruti wagon r|             cng lxi|  gurgaon|    560000.0|            0|    dealer|  partner|['power steering'...|['power steering'...|['air conditioner...|['adjustable head...|['anti lock braki...|          silver|  k10b petrol engine|           3.0|                4.0|               dohc|        false|        false|3655.0|1620.0|1675.0|    2435.0|       null|      null|      905.0|      1340.0| 5 speed|       fwd|  5.0|        power|           4.7|            disc|           drum|     null|        18.6|tubeless radial|  5.0|       341.0|          used|      haryana|          silver|     first|Multi-Point Fuel ...|             null|            null|                    null|              58.33|      5500.0|                78.0|       3500.0|73.0|  null|\n",
      "|5bb9f635-15d6-46b...|  bengali market| 2011|hatchback|      manual| cng| 67000.0|  0|[{'img': 'https:/...|       7|     false|maruti wagon r lx...| maruti|    maruti wagon r|             lxi cng|new delhi|    215000.0|            0|    dealer|  partner|['power steering'...|['power steering'...|['air conditioner...|['adjustable head...|['centeral lockin...|          silver|         k10b engine|           3.0|                4.0|               dohc|        false|        false|3599.0|1495.0|1700.0|    2400.0|     1295.0|    1290.0|      960.0|      1350.0| 5 speed|       fwd|  5.0|        power|           4.6| ventilated disc|           drum|    137.0|        15.9|       tubeless|  5.0|       180.0|          used|        delhi|          silver|    second|                 nan|             null|            null|                    null|              58.16|      6200.0|                77.0|       3500.0|69.0|  null|\n",
      "|b324264a-60ba-42c...|       pune city| 2018|hatchback|      manual| cng| 98083.0|  0|[{'img': 'https:/...|      22|     false|maruti celerio vx...| maruti|    maruti celerio|vxi cng optional ...|     pune|    425000.0|            0|    dealer|  partner|['power steering'...|['power steering'...|['air conditioner...|['adjustable head...|['anti lock braki...|    silky silver|         k10b engine|           3.0|                4.0|               dohc|        false|        false|3695.0|1600.0|1560.0|    2425.0|     1420.0|    1410.0|      925.0|      1350.0| 5 speed|       fwd|  5.0|        power|           4.7| ventilated disc|           drum|    150.0|       15.05|tubeless radial|  5.0|       235.0|          used|  maharashtra|    silky silver|     first|Gasoline Port Inj...|             11.0|            null|                    null|              58.33|      6000.0|                78.0|       3500.0|73.0|  null|\n",
      "|fa28f05d-ea6d-4d0...|             nan| 2019|hatchback|      manual| cng| 80000.0|  0|[{'img': 'https:/...|       6|     false|maruti celerio vx...| maruti|    maruti celerio|        vxi cng bsiv|     agra|    380000.0|            0|individual|  partner|['power steering'...|['power steering'...|['air conditioner...|['adjustable head...|['anti lock braki...|           white|         k10b engine|           3.0|                4.0|               dohc|        false|        false|3695.0|1600.0|1560.0|    2425.0|     1420.0|    1410.0|      920.0|      1350.0| 5 speed|       fwd|  5.0|        power|           4.7| ventilated disc|           drum|    150.0|       15.05|tubeless radial|  5.0|       235.0|          used|uttar pradesh|           white|     first|Gasoline Port Inj...|             11.0|            null|                    null|              58.33|      6000.0|                78.0|       3500.0|73.0|  null|\n",
      "|5423e926-5d82-4ff...|     bandra west| 2017|      muv|      manual| cng| 39000.0|  0|[{'img': 'https:/...|      14|     false|maruti ertiga vxi...| maruti|     maruti ertiga|             vxi cng|   mumbai|    795000.0|            0|    dealer|  partner|['power steering'...|['power steering'...|['air conditioner...|['adjustable head...|['anti lock braki...|          silver|  k14b petrol engine|           4.0|                4.0|               dohc|        false|        false|4296.0|1695.0|1685.0|    2740.0|     1480.0|    1490.0|     1255.0|        null| 5 speed|       fwd|  7.0|        power|           5.2| ventilated disc|           drum|    164.0|        13.0|tubeless radial|  5.0|       135.0|          used|  maharashtra|          silver|     first|Multi-Point Fuel ...|             11.0|            null|                    null|              80.46|      6000.0|               112.0|       4000.0|73.0|  null|\n",
      "|ad459b4e-5e3d-4ea...|       pune city| 2014|hatchback|      manual| cng| 34889.0|  0|[{'img': 'https:/...|      26|     false|maruti wagon r lx...| maruti|    maruti wagon r|             lxi cng|     pune|    350000.0|            0|    dealer|  partner|['power steering'...|['power steering'...|['air conditioner...|['adjustable head...|['centeral lockin...|bakers chocolate|         k10b engine|           3.0|                4.0|               dohc|        false|        false|3599.0|1495.0|1700.0|    2400.0|     1295.0|    1290.0|      960.0|      1350.0| 5 speed|       fwd|  5.0|        power|           4.6| ventilated disc|           drum|    137.0|        15.9|       tubeless|  5.0|       180.0|          used|  maharashtra|bakers chocolate|     first|                 nan|             null|            null|                    null|              58.16|      6200.0|                77.0|       3500.0|69.0|  null|\n",
      "|27f1507d-5edc-4a4...|new delhi g.p.o.| 2022|hatchback|      manual| cng| 31758.0|  0|[{'img': 'https:/...|      21|     false|maruti wagon r cn...| maruti|    maruti wagon r|         cng lxi opt|new delhi|    650000.0|            0|    dealer|  partner|['power steering'...|['power steering'...|['air conditioner...|['adjustable head...|['anti lock braki...|    silky silver|  k10b petrol engine|           3.0|                4.0|               dohc|        false|        false|3655.0|1620.0|1675.0|    2435.0|       null|      null|      905.0|      1340.0| 5 speed|       fwd|  5.0|        power|           4.7|            disc|           drum|     null|        18.6|       tubeless|  5.0|       341.0|          used|        delhi|    silky silver|     first|Multi-Point Fuel ...|             null|            null|                    null|              58.33|      5500.0|                78.0|       3500.0|73.0|  null|\n",
      "|39b598ca-7b0b-41e...|     mohan nagar| 2021|hatchback|      manual| cng| 23000.0|  0|[{'img': 'https:/...|      17|     false|maruti wagon r lx...| maruti|    maruti wagon r|             lxi cng|ghaziabad|    599000.0|            0|    dealer|  partner|['power steering'...|['power steering'...|['air conditioner...|['adjustable head...|['centeral lockin...|           white|         k10b engine|           3.0|                4.0|               dohc|        false|        false|3599.0|1495.0|1700.0|    2400.0|     1295.0|    1290.0|      960.0|      1350.0| 5 speed|       fwd|  5.0|        power|           4.6| ventilated disc|           drum|    137.0|        15.9|       tubeless|  5.0|       180.0|          used|uttar pradesh|           white|     first|                 nan|             null|            null|                    null|              58.16|      6200.0|                77.0|       3500.0|69.0|  null|\n",
      "|0dcbf585-0ad0-480...|  bengali market| 2014|hatchback|      manual| cng| 60000.0|  0|[{'img': 'https:/...|       9|     false|hyundai grand i10...|hyundai| hyundai grand i10|            asta cng|new delhi|    425000.0|            0|    dealer|  partner|['power steering'...|['power steering'...|['air conditioner...|['adjustable head...|['centeral lockin...|           white|kappa vtvt petrol...|           4.0|                4.0|               dohc|        false|        false|3765.0|1660.0|1520.0|    2425.0|     1479.0|    1493.0|      935.0|        null| 5 speed|       fwd|  5.0|        power|           4.8|            disc|           drum|    165.0|        12.9|       tubeless|  5.0|       256.0|          used|        delhi|           white|    second|Distributor-Type ...|             null|            14.0|                    null|               82.0|      6000.0|               114.0|       4000.0|null|  null|\n",
      "|39cd661b-d9a0-4d4...|new delhi g.p.o.| 2016|hatchback|      manual| cng| 43413.0|  0|[{'img': 'https:/...|      22|     false|maruti wagon r lx...| maruti|    maruti wagon r|             lxi cng|new delhi|    317736.0|            0|    dealer|  partner|['power steering'...|['power steering'...|['air conditioner...|['adjustable head...|['centeral lockin...|           white|         k10b engine|           3.0|                4.0|               dohc|        false|        false|3599.0|1495.0|1700.0|    2400.0|     1295.0|    1290.0|      960.0|      1350.0| 5 speed|       fwd|  5.0|        power|           4.6| ventilated disc|           drum|    137.0|        15.9|       tubeless|  5.0|       180.0|          used|        delhi|           white|    second|                 nan|             null|            null|                    null|              58.16|      6200.0|                77.0|       3500.0|69.0|  null|\n",
      "|8186c303-66cf-49a...|             nan| 2020|      muv|      manual| cng| 60000.0|  0|[{'img': 'https:/...|       3|     false|maruti ertiga tou...| maruti|maruti ertiga tour|   std cng 2019-2022|bangalore|   1000000.0|            0|individual|  partner|['power steering'...|['power steering'...|['air conditioner...|['adjustable head...|['anti lock braki...|           white|                k15b|           4.0|                4.0|                nan|         true|         true|4395.0|1735.0|1690.0|    2740.0|       null|      null|     1235.0|      1795.0| 5 speed|       fwd|  7.0|          nan|           5.2| ventilated disc|           drum|     null|        null|tubeless radial|  5.0|        null|          used|    karnataka|           white|     first|                 nan|             null|            null|                    null|              91.18|      6000.0|               122.0|       4400.0|74.0|  85.0|\n",
      "|4660538e-39df-416...|       pune city| 2014|hatchback|      manual| cng| 67720.0|  0|[{'img': 'https:/...|      20|     false|maruti celerio gr...| maruti|    maruti celerio|           green vxi|     pune|    317400.0|            0|    dealer|  partner|['power steering'...|['power steering'...|['air conditioner...|['adjustable head...|['centeral lockin...|   cerulean blue|         k10b engine|           3.0|                4.0|               dohc|        false|        false|3600.0|1600.0|1560.0|    2425.0|     1420.0|    1410.0|      915.0|      1350.0| 5 speed|       fwd|  5.0|        power|           4.7| ventilated disc|           drum|    150.0|       15.05|tubeless radial|  5.0|       235.0|          used|  maharashtra|   cerulean blue|     third|Gasoline Port Inj...|             11.0|            null|                    null|               58.2|      6000.0|                78.0|       3500.0|73.0|  null|\n",
      "+--------------------+----------------+-----+---------+------------+----+--------+---+--------------------+--------+----------+--------------------+-------+------------------+--------------------+---------+------------+-------------+----------+---------+--------------------+--------------------+--------------------+--------------------+--------------------+----------------+--------------------+--------------+-------------------+-------------------+-------------+-------------+------+------+------+----------+-----------+----------+-----------+------------+--------+----------+-----+-------------+--------------+----------------+---------------+---------+------------+---------------+-----+------------+--------------+-------------+----------------+----------+--------------------+-----------------+----------------+------------------------+-------------------+------------+--------------------+-------------+----+------+\n",
      "only showing top 20 rows\n",
      "\n"
     ]
    }
   ],
   "source": [
    "df_pyspark.show()"
   ]
  },
  {
   "cell_type": "code",
   "execution_count": 11,
   "metadata": {},
   "outputs": [
    {
     "data": {
      "text/plain": [
       "pyspark.sql.dataframe.DataFrame"
      ]
     },
     "execution_count": 11,
     "metadata": {},
     "output_type": "execute_result"
    }
   ],
   "source": [
    "type(df_pyspark)"
   ]
  },
  {
   "cell_type": "code",
   "execution_count": 12,
   "metadata": {},
   "outputs": [
    {
     "name": "stdout",
     "output_type": "stream",
     "text": [
      "+----------------+------------------+\n",
      "|             loc|             model|\n",
      "+----------------+------------------+\n",
      "|     gomti nagar|    maruti wagon r|\n",
      "|   borivali west|    maruti celerio|\n",
      "|          jasola|       honda amaze|\n",
      "|          jasola|    maruti wagon r|\n",
      "|   mumbai g.p.o.|     maruti ertiga|\n",
      "|  bengali market|    maruti wagon r|\n",
      "|  bengali market|       maruti alto|\n",
      "|     preet vihar| hyundai grand i10|\n",
      "|       dundahera|    maruti wagon r|\n",
      "|  bengali market|    maruti wagon r|\n",
      "|       pune city|    maruti celerio|\n",
      "|             nan|    maruti celerio|\n",
      "|     bandra west|     maruti ertiga|\n",
      "|       pune city|    maruti wagon r|\n",
      "|new delhi g.p.o.|    maruti wagon r|\n",
      "|     mohan nagar|    maruti wagon r|\n",
      "|  bengali market| hyundai grand i10|\n",
      "|new delhi g.p.o.|    maruti wagon r|\n",
      "|             nan|maruti ertiga tour|\n",
      "|       pune city|    maruti celerio|\n",
      "+----------------+------------------+\n",
      "only showing top 20 rows\n",
      "\n"
     ]
    }
   ],
   "source": [
    "df_pyspark.select(['loc','model']).show()"
   ]
  },
  {
   "cell_type": "code",
   "execution_count": 13,
   "metadata": {},
   "outputs": [
    {
     "name": "stderr",
     "output_type": "stream",
     "text": [
      "                                                                                \r"
     ]
    },
    {
     "name": "stdout",
     "output_type": "stream",
     "text": [
      "+-------+--------------------+---------------+------------------+------------+------------+------+------------------+--------------------+--------------------+------------------+--------------------+-------------+----------+--------------------+--------+------------------+-----------------+----------+-------+--------------------+--------------------+--------------------+--------------------+--------------------+------------+--------------------+------------------+-------------------+-------------------+-----------------+------------------+------------------+------------------+------------------+------------------+------------------+------------------+--------+----------+------------------+-------------+------------------+----------------+---------------+------------------+------------------+---------------+-------------------+------------------+--------------+--------------+--------------+----------------+--------------------+------------------+------------------+------------------------+-------------------+------------------+--------------------+------------------+------------------+-----------------+\n",
      "|summary|        usedCarSkuId|            loc|             myear|        body|transmission|  fuel|                km|                  ip|              images|          imgCount|                 dvn|          oem|     model|             variant|    City|      listed_price|    discountValue|     utype|carType|        top_features|    comfort_features|   interior_features|   exterior_features|     safety_features|       Color|         Engine Type|    No of Cylinder|Valves per Cylinder|Valve Configuration|           Length|             Width|            Height|        Wheel Base|       Front Tread|        Rear Tread|       Kerb Weight|      Gross Weight|Gear Box|Drive Type|             Seats|Steering Type|    Turning Radius|Front Brake Type|Rear Brake Type|         Top Speed|      Acceleration|      Tyre Type|              Doors|      Cargo Volume|model_type_new|         state|exterior_color|      owner_type|   Fuel Suppy System| Compression Ratio|  Alloy Wheel Size|Ground Clearance Unladen|Max Power Delivered|      Max Power At|Max Torque Delivered|     Max Torque At|              Bore|           Stroke|\n",
      "+-------+--------------------+---------------+------------------+------------+------------+------+------------------+--------------------+--------------------+------------------+--------------------+-------------+----------+--------------------+--------+------------------+-----------------+----------+-------+--------------------+--------------------+--------------------+--------------------+--------------------+------------+--------------------+------------------+-------------------+-------------------+-----------------+------------------+------------------+------------------+------------------+------------------+------------------+------------------+--------+----------+------------------+-------------+------------------+----------------+---------------+------------------+------------------+---------------+-------------------+------------------+--------------+--------------+--------------+----------------+--------------------+------------------+------------------+------------------------+-------------------+------------------+--------------------+------------------+------------------+-----------------+\n",
      "|  count|               37813|          37813|             37813|       37813|       37813| 37813|             37813|               37813|               37813|             37813|               37813|        37813|     37813|               37813|   37813|             37813|            37813|     37813|  37813|               37813|               37813|               37813|               37813|               37813|       37813|               37813|             37670|              37585|              37813|            37451|             37442|             37450|             37257|             21939|             21938|             24674|             16923|   37813|     37813|             37795|        37813|             31965|           37813|          37813|             22461|             23825|          37813|              37769|             31081|         37813|         37813|         37813|           37813|               37813|             10012|             23352|                    2152|              37582|             35566|               37582|             35837|             12636|              513|\n",
      "|   mean|                null|            NaN|2015.5695131304049|         NaN|        null|  null|62409.296987808426|0.010208129479279612|                null|15.571417237458016|                null|         null|      null|  223.07029702970306|    null| 799986.8096686325|73.28170206013804|      null|   null|                null|                null|                null|                null|                null|         NaN|                 NaN|3.8194053623573136| 3.8939470533457494|                NaN|4113.622867213158|1725.5940921959298|1577.5548464619492|2545.8204901092413|1470.0194357080998| 1469.290609900629|  1146.35665072546|1709.0881049459315|     NaN|       NaN| 5.236724434449001|          NaN|5.4940093852651675|             NaN|            NaN| 172.9937260139797|13.133426652675741|            NaN|  4.664089597288782| 363.0918567613655|          null|          null|           NaN|            null|                 NaN|12.833272073511814|15.450154162384377|      179.41589219330854| 102.75496032675197| 5102.916268346174|    178.772194933745|3161.8460529620224| 72.41397356758455| 83.4951656920078|\n",
      "| stddev|                null|            NaN|3.7790887895295238|         NaN|        null|  null|  58472.1617048668| 0.10051960399120756|                null|  8.35806821193955|                null|         null|      null|  203.70815654679228|    null|3043044.8812301042|2805.783272044455|      null|   null|                null|                null|                null|                null|                null|         NaN|                 NaN|0.5414270886883299| 0.4784987697520432|                NaN|399.3574374088854|128.29312368402677|115.15205108419971| 155.2953989190628| 90.37265960355747|100.56237296723278|318.51834958341715| 441.5916448577242|     NaN|       NaN|0.7222495053040644|          NaN|49.399708195073266|             NaN|            NaN|26.630806073630986| 3.309054378030997|            NaN|0.49652746492748356|130.41281706757272|          null|          null|           NaN|            null|                 NaN| 5.259471670634565|1.5218840925544233|       25.98945514884792|  42.78416535761757|1056.2801704699214|  106.35288185488328|1025.0491020716747|11.906692865321238|4.654386374305502|\n",
      "|    min|00006fea-858a-4ee...|a.j.c.bose road|              1983|convertibles|   automatic|   cng|             101.0|                   0|\"[{'img': \"\"https...|                 0|ambassador grand ...|ashok leyland|ambassador|            (non-ac)|  abohar|           11963.0|                0|    dealer|assured|['accessory power...|['accessory power...|['adjustable stee...|['adjustable head...|['anti lock braki...|           ?|             0.8 sce|               1.0|                1.0|16 modules 48 cells|           2752.0|            1312.0|            1165.0|            1840.0|            1143.0|              15.0|             451.0|             785.0| 1 speed|       2wd|               0.0|       manual|               3.5|         caliper|        caliper|              70.0|               2.5|            nan|                2.0|              20.0|          used|andhra pradesh|             ?|           fifth|Common Rail Injec...|              4.17|               7.0|                    91.0|               10.8|            1620.0|                 4.8|             160.0|              2.85|             71.5|\n",
      "|    max|fffd9b2d-6117-4c1...|   yerwada t.s.|              2023|       wagon|      manual|petrol|         6300000.0|                   1|[{'img': 'https:/...|                74|volvo xc90 d5 at awd|        volvo|volvo xc90|zxi with leather ...|zirakpur|      5.50000555E8|           200000|individual|partner|                  []|                  []|                  []|                  []|                  []|zanskar blue|â 2.1-litre diese...|              16.0|               48.0|               sohc|           5982.0|            2236.0|            2075.0|            3772.0|            1705.0|            1834.0|            2962.0|            3490.0|     nan|       rwd|              14.0|        power|            6250.0| ventilated disc|ventilated disc|             340.0|             44.04|tubeless radial|                6.0|            2055.0|          used|   west bengal|  zanskar blue|unregistered car|                 nan|              81.0|              21.0|                   213.0|             769.31|            8250.0|               900.0|           21800.0|             165.0|            104.9|\n",
      "+-------+--------------------+---------------+------------------+------------+------------+------+------------------+--------------------+--------------------+------------------+--------------------+-------------+----------+--------------------+--------+------------------+-----------------+----------+-------+--------------------+--------------------+--------------------+--------------------+--------------------+------------+--------------------+------------------+-------------------+-------------------+-----------------+------------------+------------------+------------------+------------------+------------------+------------------+------------------+--------+----------+------------------+-------------+------------------+----------------+---------------+------------------+------------------+---------------+-------------------+------------------+--------------+--------------+--------------+----------------+--------------------+------------------+------------------+------------------------+-------------------+------------------+--------------------+------------------+------------------+-----------------+\n",
      "\n"
     ]
    }
   ],
   "source": [
    "df_pyspark.describe().show()"
   ]
  },
  {
   "cell_type": "code",
   "execution_count": null,
   "metadata": {},
   "outputs": [],
   "source": []
  }
 ],
 "metadata": {
  "kernelspec": {
   "display_name": "Python 3.8.10 64-bit",
   "language": "python",
   "name": "python3"
  },
  "language_info": {
   "codemirror_mode": {
    "name": "ipython",
    "version": 3
   },
   "file_extension": ".py",
   "mimetype": "text/x-python",
   "name": "python",
   "nbconvert_exporter": "python",
   "pygments_lexer": "ipython3",
   "version": "3.8.10"
  },
  "orig_nbformat": 4,
  "vscode": {
   "interpreter": {
    "hash": "e7370f93d1d0cde622a1f8e1c04877d8463912d04d973331ad4851f04de6915a"
   }
  }
 },
 "nbformat": 4,
 "nbformat_minor": 2
}
